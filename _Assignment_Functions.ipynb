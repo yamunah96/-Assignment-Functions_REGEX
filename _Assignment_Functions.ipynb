{
  "nbformat": 4,
  "nbformat_minor": 0,
  "metadata": {
    "colab": {
      "name": "#Assignment #Functions",
      "provenance": []
    },
    "kernelspec": {
      "name": "python3",
      "display_name": "Python 3"
    },
    "language_info": {
      "name": "python"
    }
  },
  "cells": [
    {
      "cell_type": "markdown",
      "source": [
        "**Create two functions which will help us to find the LCM & GCF(Greatest Common Factor) of any two numbers.**"
      ],
      "metadata": {
        "id": "dy4A07yETVaN"
      }
    },
    {
      "cell_type": "code",
      "execution_count": null,
      "metadata": {
        "colab": {
          "base_uri": "https://localhost:8080/"
        },
        "id": "6G6DXsBgTPpR",
        "outputId": "9a3be926-91ef-42d3-9641-3be215b14535"
      },
      "outputs": [
        {
          "output_type": "stream",
          "name": "stdout",
          "text": [
            "Enter the num1: 4\n",
            "Enter the num2: 2\n",
            "The H.C.F. is 2\n"
          ]
        }
      ],
      "source": [
        "# Python program to find H.C.F of two numbers\n",
        "\n",
        "# define a function\n",
        "def compute_hcf(x, y):\n",
        "\n",
        "# choose the smaller number\n",
        "    if x > y:\n",
        "        smaller = y\n",
        "    else:\n",
        "        smaller = x\n",
        "    for i in range(1, smaller+1):\n",
        "        if((x % i == 0) and (y % i == 0)):\n",
        "            hcf = i \n",
        "    return hcf\n",
        "\n",
        "num1 = int(input(\"Enter the num1: \"))\n",
        "num2 = int(input(\"Enter the num2: \"))\n",
        "\n",
        "print(\"The H.C.F. is\", compute_hcf(num1, num2))"
      ]
    },
    {
      "cell_type": "code",
      "source": [
        "# Python program to find hcf (gcd) & lcm\n",
        "\n",
        "# Defining function to calculate hcf\n",
        "def find_gcd(a,b):\n",
        "    gcd = 1\n",
        "    for i in range(1,a+1):\n",
        "        if a%i==0 and b%i==0:\n",
        "           gcd = i\n",
        "    return gcd\n",
        "\n",
        "# Reading numbers from user\n",
        "first = int(input('Enter first number: '))\n",
        "second = int(input('Enter second number: '))\n",
        "\n",
        "# Function call & displaying output HCF (GCD)\n",
        "print('HCF or GCD of %d and %d is %d' %(first, second, find_gcd(first, second)))\n",
        "\n",
        "# Calculating LCM\n",
        "lcm = first * second / find_gcd(first, second)\n",
        "print('LCM of %d and %d is %d' %(first, second, lcm))"
      ],
      "metadata": {
        "id": "kZKgDsJVVfS5",
        "outputId": "b57d6050-1194-48cb-e400-2f923d9a811b",
        "colab": {
          "base_uri": "https://localhost:8080/"
        }
      },
      "execution_count": null,
      "outputs": [
        {
          "output_type": "stream",
          "name": "stdout",
          "text": [
            "Enter first number: 4\n",
            "Enter second number: 2\n",
            "HCF or GCD of 4 and 2 is 2\n",
            "LCM of 4 and 2 is 4\n"
          ]
        }
      ]
    }
  ]
}